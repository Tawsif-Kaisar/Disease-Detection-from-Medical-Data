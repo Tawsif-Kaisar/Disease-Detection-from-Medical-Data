{
  "nbformat": 4,
  "nbformat_minor": 0,
  "metadata": {
    "colab": {
      "provenance": []
    },
    "kernelspec": {
      "name": "python3",
      "display_name": "Python 3"
    },
    "language_info": {
      "name": "python"
    }
  },
  "cells": [
    {
      "cell_type": "code",
      "source": [
        "import pandas as pd\n",
        "import numpy as np\n",
        "import seaborn as sns\n",
        "import matplotlib.pyplot as plt\n",
        "from sklearn.model_selection import train_test_split, StratifiedKFold, GridSearchCV\n",
        "from sklearn.preprocessing import StandardScaler\n",
        "from sklearn.decomposition import PCA\n",
        "from sklearn.ensemble import RandomForestClassifier\n",
        "from sklearn.linear_model import LogisticRegression\n",
        "from sklearn.svm import SVC\n",
        "from sklearn.neural_network import MLPClassifier\n",
        "from sklearn.metrics import accuracy_score, classification_report, confusion_matrix\n",
        "from imblearn.over_sampling import SMOTE\n",
        "import joblib"
      ],
      "metadata": {
        "id": "2IOH3R1rVBNN"
      },
      "execution_count": 22,
      "outputs": []
    },
    {
      "cell_type": "code",
      "execution_count": 1,
      "metadata": {
        "colab": {
          "base_uri": "https://localhost:8080/"
        },
        "id": "RXg7VDIAQUF8",
        "outputId": "0b491404-d9ac-44a5-c488-dd5a29f51d25"
      },
      "outputs": [
        {
          "output_type": "stream",
          "name": "stdout",
          "text": [
            "              name  MDVP:Fo(Hz)  MDVP:Fhi(Hz)  MDVP:Flo(Hz)  MDVP:Jitter(%)  \\\n",
            "0   phon_R01_S01_1      119.992       157.302        74.997         0.00784   \n",
            "1   phon_R01_S01_2      122.400       148.650       113.819         0.00968   \n",
            "2   phon_R01_S01_3      116.682       131.111       111.555         0.01050   \n",
            "3   phon_R01_S01_4      116.676       137.871       111.366         0.00997   \n",
            "4   phon_R01_S01_5      116.014       141.781       110.655         0.01284   \n",
            "5   phon_R01_S01_6      120.552       131.162       113.787         0.00968   \n",
            "6   phon_R01_S02_1      120.267       137.244       114.820         0.00333   \n",
            "7   phon_R01_S02_2      107.332       113.840       104.315         0.00290   \n",
            "8   phon_R01_S02_3       95.730       132.068        91.754         0.00551   \n",
            "9   phon_R01_S02_4       95.056       120.103        91.226         0.00532   \n",
            "10  phon_R01_S02_5       88.333       112.240        84.072         0.00505   \n",
            "11  phon_R01_S02_6       91.904       115.871        86.292         0.00540   \n",
            "12  phon_R01_S04_1      136.926       159.866       131.276         0.00293   \n",
            "13  phon_R01_S04_2      139.173       179.139        76.556         0.00390   \n",
            "14  phon_R01_S04_3      152.845       163.305        75.836         0.00294   \n",
            "15  phon_R01_S04_4      142.167       217.455        83.159         0.00369   \n",
            "16  phon_R01_S04_5      144.188       349.259        82.764         0.00544   \n",
            "17  phon_R01_S04_6      168.778       232.181        75.603         0.00718   \n",
            "18  phon_R01_S05_1      153.046       175.829        68.623         0.00742   \n",
            "19  phon_R01_S05_2      156.405       189.398       142.822         0.00768   \n",
            "\n",
            "    MDVP:Jitter(Abs)  MDVP:RAP  MDVP:PPQ  Jitter:DDP  MDVP:Shimmer  ...  \\\n",
            "0            0.00007   0.00370   0.00554     0.01109       0.04374  ...   \n",
            "1            0.00008   0.00465   0.00696     0.01394       0.06134  ...   \n",
            "2            0.00009   0.00544   0.00781     0.01633       0.05233  ...   \n",
            "3            0.00009   0.00502   0.00698     0.01505       0.05492  ...   \n",
            "4            0.00011   0.00655   0.00908     0.01966       0.06425  ...   \n",
            "5            0.00008   0.00463   0.00750     0.01388       0.04701  ...   \n",
            "6            0.00003   0.00155   0.00202     0.00466       0.01608  ...   \n",
            "7            0.00003   0.00144   0.00182     0.00431       0.01567  ...   \n",
            "8            0.00006   0.00293   0.00332     0.00880       0.02093  ...   \n",
            "9            0.00006   0.00268   0.00332     0.00803       0.02838  ...   \n",
            "10           0.00006   0.00254   0.00330     0.00763       0.02143  ...   \n",
            "11           0.00006   0.00281   0.00336     0.00844       0.02752  ...   \n",
            "12           0.00002   0.00118   0.00153     0.00355       0.01259  ...   \n",
            "13           0.00003   0.00165   0.00208     0.00496       0.01642  ...   \n",
            "14           0.00002   0.00121   0.00149     0.00364       0.01828  ...   \n",
            "15           0.00003   0.00157   0.00203     0.00471       0.01503  ...   \n",
            "16           0.00004   0.00211   0.00292     0.00632       0.02047  ...   \n",
            "17           0.00004   0.00284   0.00387     0.00853       0.03327  ...   \n",
            "18           0.00005   0.00364   0.00432     0.01092       0.05517  ...   \n",
            "19           0.00005   0.00372   0.00399     0.01116       0.03995  ...   \n",
            "\n",
            "    Shimmer:DDA      NHR     HNR  status      RPDE       DFA   spread1  \\\n",
            "0       0.06545  0.02211  21.033       1  0.414783  0.815285 -4.813031   \n",
            "1       0.09403  0.01929  19.085       1  0.458359  0.819521 -4.075192   \n",
            "2       0.08270  0.01309  20.651       1  0.429895  0.825288 -4.443179   \n",
            "3       0.08771  0.01353  20.644       1  0.434969  0.819235 -4.117501   \n",
            "4       0.10470  0.01767  19.649       1  0.417356  0.823484 -3.747787   \n",
            "5       0.06985  0.01222  21.378       1  0.415564  0.825069 -4.242867   \n",
            "6       0.02337  0.00607  24.886       1  0.596040  0.764112 -5.634322   \n",
            "7       0.02487  0.00344  26.892       1  0.637420  0.763262 -6.167603   \n",
            "8       0.03218  0.01070  21.812       1  0.615551  0.773587 -5.498678   \n",
            "9       0.04324  0.01022  21.862       1  0.547037  0.798463 -5.011879   \n",
            "10      0.03237  0.01166  21.118       1  0.611137  0.776156 -5.249770   \n",
            "11      0.04272  0.01141  21.414       1  0.583390  0.792520 -4.960234   \n",
            "12      0.01968  0.00581  25.703       1  0.460600  0.646846 -6.547148   \n",
            "13      0.02184  0.01041  24.889       1  0.430166  0.665833 -5.660217   \n",
            "14      0.03191  0.00609  24.922       1  0.474791  0.654027 -6.105098   \n",
            "15      0.02316  0.00839  25.175       1  0.565924  0.658245 -5.340115   \n",
            "16      0.02908  0.01859  22.333       1  0.567380  0.644692 -5.440040   \n",
            "17      0.04322  0.02919  20.376       1  0.631099  0.605417 -2.931070   \n",
            "18      0.07413  0.03160  17.280       1  0.665318  0.719467 -3.949079   \n",
            "19      0.05164  0.03365  17.153       1  0.649554  0.686080 -4.554466   \n",
            "\n",
            "     spread2        D2       PPE  \n",
            "0   0.266482  2.301442  0.284654  \n",
            "1   0.335590  2.486855  0.368674  \n",
            "2   0.311173  2.342259  0.332634  \n",
            "3   0.334147  2.405554  0.368975  \n",
            "4   0.234513  2.332180  0.410335  \n",
            "5   0.299111  2.187560  0.357775  \n",
            "6   0.257682  1.854785  0.211756  \n",
            "7   0.183721  2.064693  0.163755  \n",
            "8   0.327769  2.322511  0.231571  \n",
            "9   0.325996  2.432792  0.271362  \n",
            "10  0.391002  2.407313  0.249740  \n",
            "11  0.363566  2.642476  0.275931  \n",
            "12  0.152813  2.041277  0.138512  \n",
            "13  0.254989  2.519422  0.199889  \n",
            "14  0.203653  2.125618  0.170100  \n",
            "15  0.210185  2.205546  0.234589  \n",
            "16  0.239764  2.264501  0.218164  \n",
            "17  0.434326  3.007463  0.430788  \n",
            "18  0.357870  3.109010  0.377429  \n",
            "19  0.340176  2.856676  0.322111  \n",
            "\n",
            "[20 rows x 24 columns]\n"
          ]
        }
      ],
      "source": [
        "import pandas as pd\n",
        "\n",
        "# Load the dataset\n",
        "df = pd.read_csv('/content/parkinsons.data')\n",
        "\n",
        "# Display the first few rows\n",
        "print(df.head(20))\n"
      ]
    },
    {
      "cell_type": "code",
      "source": [
        "# Check dataset structure\n",
        "print(df.info())\n",
        "\n",
        "# Check for missing values\n",
        "print(df.isnull().sum())\n",
        "\n",
        "# Display statistical summary\n",
        "print(df.describe())\n"
      ],
      "metadata": {
        "colab": {
          "base_uri": "https://localhost:8080/"
        },
        "id": "AUSpkIYlQlG-",
        "outputId": "a10a62ef-d40a-4cc4-cece-526c67bd6c84"
      },
      "execution_count": 2,
      "outputs": [
        {
          "output_type": "stream",
          "name": "stdout",
          "text": [
            "<class 'pandas.core.frame.DataFrame'>\n",
            "RangeIndex: 195 entries, 0 to 194\n",
            "Data columns (total 24 columns):\n",
            " #   Column            Non-Null Count  Dtype  \n",
            "---  ------            --------------  -----  \n",
            " 0   name              195 non-null    object \n",
            " 1   MDVP:Fo(Hz)       195 non-null    float64\n",
            " 2   MDVP:Fhi(Hz)      195 non-null    float64\n",
            " 3   MDVP:Flo(Hz)      195 non-null    float64\n",
            " 4   MDVP:Jitter(%)    195 non-null    float64\n",
            " 5   MDVP:Jitter(Abs)  195 non-null    float64\n",
            " 6   MDVP:RAP          195 non-null    float64\n",
            " 7   MDVP:PPQ          195 non-null    float64\n",
            " 8   Jitter:DDP        195 non-null    float64\n",
            " 9   MDVP:Shimmer      195 non-null    float64\n",
            " 10  MDVP:Shimmer(dB)  195 non-null    float64\n",
            " 11  Shimmer:APQ3      195 non-null    float64\n",
            " 12  Shimmer:APQ5      195 non-null    float64\n",
            " 13  MDVP:APQ          195 non-null    float64\n",
            " 14  Shimmer:DDA       195 non-null    float64\n",
            " 15  NHR               195 non-null    float64\n",
            " 16  HNR               195 non-null    float64\n",
            " 17  status            195 non-null    int64  \n",
            " 18  RPDE              195 non-null    float64\n",
            " 19  DFA               195 non-null    float64\n",
            " 20  spread1           195 non-null    float64\n",
            " 21  spread2           195 non-null    float64\n",
            " 22  D2                195 non-null    float64\n",
            " 23  PPE               195 non-null    float64\n",
            "dtypes: float64(22), int64(1), object(1)\n",
            "memory usage: 36.7+ KB\n",
            "None\n",
            "name                0\n",
            "MDVP:Fo(Hz)         0\n",
            "MDVP:Fhi(Hz)        0\n",
            "MDVP:Flo(Hz)        0\n",
            "MDVP:Jitter(%)      0\n",
            "MDVP:Jitter(Abs)    0\n",
            "MDVP:RAP            0\n",
            "MDVP:PPQ            0\n",
            "Jitter:DDP          0\n",
            "MDVP:Shimmer        0\n",
            "MDVP:Shimmer(dB)    0\n",
            "Shimmer:APQ3        0\n",
            "Shimmer:APQ5        0\n",
            "MDVP:APQ            0\n",
            "Shimmer:DDA         0\n",
            "NHR                 0\n",
            "HNR                 0\n",
            "status              0\n",
            "RPDE                0\n",
            "DFA                 0\n",
            "spread1             0\n",
            "spread2             0\n",
            "D2                  0\n",
            "PPE                 0\n",
            "dtype: int64\n",
            "       MDVP:Fo(Hz)  MDVP:Fhi(Hz)  MDVP:Flo(Hz)  MDVP:Jitter(%)  \\\n",
            "count   195.000000    195.000000    195.000000      195.000000   \n",
            "mean    154.228641    197.104918    116.324631        0.006220   \n",
            "std      41.390065     91.491548     43.521413        0.004848   \n",
            "min      88.333000    102.145000     65.476000        0.001680   \n",
            "25%     117.572000    134.862500     84.291000        0.003460   \n",
            "50%     148.790000    175.829000    104.315000        0.004940   \n",
            "75%     182.769000    224.205500    140.018500        0.007365   \n",
            "max     260.105000    592.030000    239.170000        0.033160   \n",
            "\n",
            "       MDVP:Jitter(Abs)    MDVP:RAP    MDVP:PPQ  Jitter:DDP  MDVP:Shimmer  \\\n",
            "count        195.000000  195.000000  195.000000  195.000000    195.000000   \n",
            "mean           0.000044    0.003306    0.003446    0.009920      0.029709   \n",
            "std            0.000035    0.002968    0.002759    0.008903      0.018857   \n",
            "min            0.000007    0.000680    0.000920    0.002040      0.009540   \n",
            "25%            0.000020    0.001660    0.001860    0.004985      0.016505   \n",
            "50%            0.000030    0.002500    0.002690    0.007490      0.022970   \n",
            "75%            0.000060    0.003835    0.003955    0.011505      0.037885   \n",
            "max            0.000260    0.021440    0.019580    0.064330      0.119080   \n",
            "\n",
            "       MDVP:Shimmer(dB)  ...  Shimmer:DDA         NHR         HNR      status  \\\n",
            "count        195.000000  ...   195.000000  195.000000  195.000000  195.000000   \n",
            "mean           0.282251  ...     0.046993    0.024847   21.885974    0.753846   \n",
            "std            0.194877  ...     0.030459    0.040418    4.425764    0.431878   \n",
            "min            0.085000  ...     0.013640    0.000650    8.441000    0.000000   \n",
            "25%            0.148500  ...     0.024735    0.005925   19.198000    1.000000   \n",
            "50%            0.221000  ...     0.038360    0.011660   22.085000    1.000000   \n",
            "75%            0.350000  ...     0.060795    0.025640   25.075500    1.000000   \n",
            "max            1.302000  ...     0.169420    0.314820   33.047000    1.000000   \n",
            "\n",
            "             RPDE         DFA     spread1     spread2          D2         PPE  \n",
            "count  195.000000  195.000000  195.000000  195.000000  195.000000  195.000000  \n",
            "mean     0.498536    0.718099   -5.684397    0.226510    2.381826    0.206552  \n",
            "std      0.103942    0.055336    1.090208    0.083406    0.382799    0.090119  \n",
            "min      0.256570    0.574282   -7.964984    0.006274    1.423287    0.044539  \n",
            "25%      0.421306    0.674758   -6.450096    0.174351    2.099125    0.137451  \n",
            "50%      0.495954    0.722254   -5.720868    0.218885    2.361532    0.194052  \n",
            "75%      0.587562    0.761881   -5.046192    0.279234    2.636456    0.252980  \n",
            "max      0.685151    0.825288   -2.434031    0.450493    3.671155    0.527367  \n",
            "\n",
            "[8 rows x 23 columns]\n"
          ]
        }
      ]
    },
    {
      "cell_type": "code",
      "source": [
        "# Drop 'name' column as it's not useful\n",
        "df = df.drop(columns=['name'])\n",
        "\n",
        "# Define features (X) and target (y)\n",
        "X = df.drop(columns=['status'])  # Features\n",
        "y = df['status']                 # Target (0 or 1)\n",
        "\n",
        "# Display shape of X and y\n",
        "print(f\"Features Shape: {X.shape}, Target Shape: {y.shape}\")\n"
      ],
      "metadata": {
        "colab": {
          "base_uri": "https://localhost:8080/"
        },
        "id": "OUhbLwhPQ4Dt",
        "outputId": "f5663205-16dd-4c54-9ec8-a5cd2d6f759e"
      },
      "execution_count": 3,
      "outputs": [
        {
          "output_type": "stream",
          "name": "stdout",
          "text": [
            "Features Shape: (195, 22), Target Shape: (195,)\n"
          ]
        }
      ]
    },
    {
      "cell_type": "code",
      "source": [
        "from sklearn.model_selection import train_test_split\n",
        "\n",
        "# Split dataset into training (80%) and testing (20%)\n",
        "X_train, X_test, y_train, y_test = train_test_split(X, y, test_size=0.2, random_state=42)\n",
        "\n",
        "# Display the shape of training and testing sets\n",
        "print(f\"Training Data Shape: {X_train.shape}, Testing Data Shape: {X_test.shape}\")\n"
      ],
      "metadata": {
        "colab": {
          "base_uri": "https://localhost:8080/"
        },
        "id": "udKAdlzSQ8YM",
        "outputId": "d5fc946d-ef10-43b9-856d-fcb59b350219"
      },
      "execution_count": 4,
      "outputs": [
        {
          "output_type": "stream",
          "name": "stdout",
          "text": [
            "Training Data Shape: (156, 22), Testing Data Shape: (39, 22)\n"
          ]
        }
      ]
    },
    {
      "cell_type": "code",
      "source": [
        "from sklearn.preprocessing import StandardScaler\n",
        "\n",
        "# Initialize scaler\n",
        "scaler = StandardScaler()\n",
        "\n",
        "# Fit and transform the training data\n",
        "X_train = scaler.fit_transform(X_train)\n",
        "\n",
        "# Transform the testing data\n",
        "X_test = scaler.transform(X_test)\n"
      ],
      "metadata": {
        "id": "5JzBqUZRQ_ld"
      },
      "execution_count": 5,
      "outputs": []
    },
    {
      "cell_type": "code",
      "source": [
        "from sklearn.ensemble import RandomForestClassifier\n",
        "from sklearn.metrics import accuracy_score, classification_report, confusion_matrix\n",
        "\n",
        "# Initialize model\n",
        "model = RandomForestClassifier(n_estimators=100, random_state=42)\n",
        "\n",
        "# Train model\n",
        "model.fit(X_train, y_train)\n",
        "\n",
        "# Make predictions\n",
        "y_pred = model.predict(X_test)\n"
      ],
      "metadata": {
        "id": "AY2K4HyxRChm"
      },
      "execution_count": 6,
      "outputs": []
    },
    {
      "cell_type": "code",
      "source": [
        "# Calculate Accuracy\n",
        "accuracy = accuracy_score(y_test, y_pred)\n",
        "print(f'Accuracy: {accuracy:.2f}')\n",
        "\n",
        "# Display Classification Report\n",
        "print(\"Classification Report:\\n\", classification_report(y_test, y_pred))\n",
        "\n",
        "# Confusion Matrix\n",
        "import seaborn as sns\n",
        "import matplotlib.pyplot as plt\n",
        "\n",
        "plt.figure(figsize=(6,4))\n",
        "sns.heatmap(confusion_matrix(y_test, y_pred), annot=True, fmt='d', cmap='Blues')\n",
        "plt.xlabel(\"Predicted\")\n",
        "plt.ylabel(\"Actual\")\n",
        "plt.title(\"Confusion Matrix\")\n",
        "plt.show()\n"
      ],
      "metadata": {
        "colab": {
          "base_uri": "https://localhost:8080/",
          "height": 601
        },
        "id": "DyYRL6r7REqk",
        "outputId": "48da110c-2f86-4323-d4e1-a204ef09bbfe"
      },
      "execution_count": 7,
      "outputs": [
        {
          "output_type": "stream",
          "name": "stdout",
          "text": [
            "Accuracy: 0.95\n",
            "Classification Report:\n",
            "               precision    recall  f1-score   support\n",
            "\n",
            "           0       1.00      0.71      0.83         7\n",
            "           1       0.94      1.00      0.97        32\n",
            "\n",
            "    accuracy                           0.95        39\n",
            "   macro avg       0.97      0.86      0.90        39\n",
            "weighted avg       0.95      0.95      0.95        39\n",
            "\n"
          ]
        },
        {
          "output_type": "display_data",
          "data": {
            "text/plain": [
              "<Figure size 600x400 with 2 Axes>"
            ],
            "image/png": "[encoded data removed]"
          },
          "metadata": {}
        }
      ]
    },
    {
      "cell_type": "code",
      "source": [
        "# testing for a new patient\n",
        "new_patient = [11.992, 5.302, 14.997, 0.00784, 0.00007, 0.0370, 0.00554, 0.0140,\n",
        "               0.1908, 0.64, 0.355, 211.093, 0.02184, 0.01908, 0.00143, 222.105, 0.426,\n",
        "               0.141, 211.94, 0.00784, 0.7, 0.00370]\n",
        "\n",
        "# Scale the new patient data\n",
        "new_patient_scaled = scaler.transform([new_patient])\n",
        "\n",
        "# Predict Parkinson’s status\n",
        "predicted_status = model.predict(new_patient_scaled)\n",
        "print(\"Predicted Status:\", \"Parkinson's\" if predicted_status[0] == 1 else \"Healthy\")\n"
      ],
      "metadata": {
        "colab": {
          "base_uri": "https://localhost:8080/"
        },
        "id": "w5L3oQjyRKnM",
        "outputId": "3bb959ce-269b-4449-ea24-cd64dca02344"
      },
      "execution_count": 8,
      "outputs": [
        {
          "output_type": "stream",
          "name": "stdout",
          "text": [
            "Predicted Status: Parkinson's\n"
          ]
        },
        {
          "output_type": "stream",
          "name": "stderr",
          "text": [
            "/usr/local/lib/python3.11/dist-packages/sklearn/utils/validation.py:2739: UserWarning: X does not have valid feature names, but StandardScaler was fitted with feature names\n",
            "  warnings.warn(\n"
          ]
        }
      ]
    },
    {
      "cell_type": "code",
      "source": [
        "from sklearn.linear_model import LogisticRegression\n",
        "from sklearn.svm import SVC\n",
        "from sklearn.neural_network import MLPClassifier\n",
        "from sklearn.metrics import accuracy_score\n",
        "\n",
        "# Initialize models\n",
        "models = {\n",
        "    \"Logistic Regression\": LogisticRegression(),\n",
        "    \"SVM\": SVC(kernel='linear'),\n",
        "    \"Neural Network\": MLPClassifier(hidden_layer_sizes=(100,), max_iter=500, random_state=42)\n",
        "}\n",
        "\n",
        "# Train and evaluate each model\n",
        "for name, model in models.items():\n",
        "    model.fit(X_train, y_train)  # Train the model\n",
        "    y_pred = model.predict(X_test)  # Make predictions\n",
        "    acc = accuracy_score(y_test, y_pred)  # Calculate accuracy\n",
        "    print(f\"{name} Accuracy: {acc:.2f}\")\n"
      ],
      "metadata": {
        "colab": {
          "base_uri": "https://localhost:8080/"
        },
        "id": "o5e90--8RbXe",
        "outputId": "0ac26398-1e47-4631-b121-b3e6a0e4e10c"
      },
      "execution_count": 9,
      "outputs": [
        {
          "output_type": "stream",
          "name": "stdout",
          "text": [
            "Logistic Regression Accuracy: 0.90\n",
            "SVM Accuracy: 0.87\n",
            "Neural Network Accuracy: 0.95\n"
          ]
        },
        {
          "output_type": "stream",
          "name": "stderr",
          "text": [
            "/usr/local/lib/python3.11/dist-packages/sklearn/neural_network/_multilayer_perceptron.py:691: ConvergenceWarning: Stochastic Optimizer: Maximum iterations (500) reached and the optimization hasn't converged yet.\n",
            "  warnings.warn(\n"
          ]
        }
      ]
    },
    {
      "cell_type": "code",
      "source": [
        "import matplotlib.pyplot as plt\n",
        "import numpy as np\n",
        "import seaborn as sns\n",
        "from sklearn.ensemble import RandomForestClassifier\n",
        "\n",
        "# Train a Random Forest Model\n",
        "rf = RandomForestClassifier(n_estimators=100, random_state=42)\n",
        "rf.fit(X_train, y_train)\n",
        "\n",
        "# Get feature importance scores\n",
        "feature_importances = rf.feature_importances_\n",
        "\n",
        "# Sort and plot feature importances\n",
        "indices = np.argsort(feature_importances)[::-1]  # Sort in descending order\n",
        "plt.figure(figsize=(10,6))\n",
        "sns.barplot(x=X.columns[indices], y=feature_importances[indices])\n",
        "plt.xticks(rotation=90)\n",
        "plt.xlabel(\"Feature Name\")\n",
        "plt.ylabel(\"Importance Score\")\n",
        "plt.title(\"Feature Importance Ranking\")\n",
        "plt.show()\n"
      ],
      "metadata": {
        "colab": {
          "base_uri": "https://localhost:8080/",
          "height": 687
        },
        "id": "5See8ZsmRug9",
        "outputId": "f0b18c93-c3da-43e8-a008-6b0060e4fbad"
      },
      "execution_count": 10,
      "outputs": [
        {
          "output_type": "display_data",
          "data": {
            "text/plain": [
              "<Figure size 1000x600 with 1 Axes>"
            ],
            "image/png": "[encoded data removed]"
          },
          "metadata": {}
        }
      ]
    },
    {
      "cell_type": "code",
      "source": [
        "# Select top 10 important features\n",
        "important_features = X.columns[indices[:10]]\n",
        "X_train_selected = X_train[:, indices[:10]]\n",
        "X_test_selected = X_test[:, indices[:10]]\n",
        "\n",
        "# Retrain Logistic Regression with selected features\n",
        "log_reg = LogisticRegression()\n",
        "log_reg.fit(X_train_selected, y_train)\n",
        "y_pred = log_reg.predict(X_test_selected)\n",
        "print(f\"Logistic Regression Accuracy (Selected Features): {accuracy_score(y_test, y_pred):.2f}\")\n"
      ],
      "metadata": {
        "colab": {
          "base_uri": "https://localhost:8080/"
        },
        "id": "h5v498aMRxdF",
        "outputId": "b276e644-ad87-4d9a-87fd-05acbaeeec39"
      },
      "execution_count": 11,
      "outputs": [
        {
          "output_type": "stream",
          "name": "stdout",
          "text": [
            "Logistic Regression Accuracy (Selected Features): 0.92\n"
          ]
        }
      ]
    },
    {
      "cell_type": "code",
      "source": [
        "from sklearn.model_selection import GridSearchCV\n",
        "\n",
        "# Define parameter grid\n",
        "param_grid = {\n",
        "    'C': [0.1, 1, 10],\n",
        "    'kernel': ['linear', 'rbf']\n",
        "}\n",
        "\n",
        "# Initialize GridSearchCV\n",
        "grid_search = GridSearchCV(SVC(), param_grid, cv=5, scoring='accuracy', n_jobs=-1)\n",
        "\n",
        "# Fit model\n",
        "grid_search.fit(X_train, y_train)\n",
        "\n",
        "# Get best parameters\n",
        "print(\"Best Parameters:\", grid_search.best_params_)\n",
        "\n",
        "# Evaluate best model\n",
        "best_svm = grid_search.best_estimator_\n",
        "y_pred = best_svm.predict(X_test)\n",
        "print(f\"Tuned SVM Accuracy: {accuracy_score(y_test, y_pred):.2f}\")\n"
      ],
      "metadata": {
        "id": "AIK6LHdhR14e",
        "outputId": "e0576fc5-ddef-41f1-a78f-90f85b65a4f3",
        "colab": {
          "base_uri": "https://localhost:8080/"
        }
      },
      "execution_count": 12,
      "outputs": [
        {
          "output_type": "stream",
          "name": "stdout",
          "text": [
            "Best Parameters: {'C': 0.1, 'kernel': 'linear'}\n",
            "Tuned SVM Accuracy: 0.90\n"
          ]
        }
      ]
    },
    {
      "cell_type": "code",
      "source": [
        "from sklearn.linear_model import LogisticRegression\n",
        "from sklearn.ensemble import RandomForestClassifier\n",
        "from sklearn.neural_network import MLPClassifier\n",
        "\n",
        "# Initialize other models\n",
        "models = {\n",
        "    \"Logistic Regression\": LogisticRegression(),\n",
        "    \"Random Forest\": RandomForestClassifier(n_estimators=100, random_state=42),\n",
        "    \"Neural Network\": MLPClassifier(hidden_layer_sizes=(100,), max_iter=500, random_state=42)\n",
        "}\n",
        "\n",
        "# Train and evaluate each model\n",
        "for name, model in models.items():\n",
        "    model.fit(X_train, y_train)  # Train the model\n",
        "    y_pred = model.predict(X_test)  # Make predictions\n",
        "    acc = accuracy_score(y_test, y_pred)  # Calculate accuracy\n",
        "    print(f\"{name} Accuracy: {acc:.2f}\")\n"
      ],
      "metadata": {
        "id": "AtsCgUIoR32F",
        "colab": {
          "base_uri": "https://localhost:8080/"
        },
        "outputId": "24878b8d-c304-4824-8079-27ade2b48d14"
      },
      "execution_count": 13,
      "outputs": [
        {
          "output_type": "stream",
          "name": "stdout",
          "text": [
            "Logistic Regression Accuracy: 0.90\n",
            "Random Forest Accuracy: 0.95\n",
            "Neural Network Accuracy: 0.95\n"
          ]
        },
        {
          "output_type": "stream",
          "name": "stderr",
          "text": [
            "/usr/local/lib/python3.11/dist-packages/sklearn/neural_network/_multilayer_perceptron.py:691: ConvergenceWarning: Stochastic Optimizer: Maximum iterations (500) reached and the optimization hasn't converged yet.\n",
            "  warnings.warn(\n"
          ]
        }
      ]
    },
    {
      "cell_type": "code",
      "source": [
        "from imblearn.over_sampling import SMOTE\n",
        "\n",
        "smote = SMOTE(random_state=42)\n",
        "X_train_balanced, y_train_balanced = smote.fit_resample(X_train, y_train)\n",
        "\n",
        "# Retrain SVM on balanced data\n",
        "best_svm.fit(X_train_balanced, y_train_balanced)\n",
        "y_pred_balanced = best_svm.predict(X_test)\n",
        "print(f\"Tuned SVM Accuracy (Balanced Data): {accuracy_score(y_test, y_pred_balanced):.2f}\")\n"
      ],
      "metadata": {
        "colab": {
          "base_uri": "https://localhost:8080/"
        },
        "id": "pfdV6wiq-cZN",
        "outputId": "d0ce3279-abdc-4c0b-d6cc-3892989e6d28"
      },
      "execution_count": 14,
      "outputs": [
        {
          "output_type": "stream",
          "name": "stdout",
          "text": [
            "Tuned SVM Accuracy (Balanced Data): 0.90\n"
          ]
        }
      ]
    },
    {
      "cell_type": "code",
      "source": [
        "import joblib\n",
        "\n",
        "# Save the best model\n",
        "joblib.dump(best_svm, \"parkinsons_svm_model.pkl\")\n",
        "\n",
        "# Load the model whenever needed\n",
        "loaded_model = joblib.load(\"parkinsons_svm_model.pkl\")\n",
        "\n",
        "# Test with new data\n",
        "new_patient_data = X_test[0].reshape(1, -1)\n",
        "prediction = loaded_model.predict(new_patient_data)\n",
        "print(\"Predicted:\", \"Parkinson's\" if prediction[0] == 1 else \"Healthy\")\n"
      ],
      "metadata": {
        "colab": {
          "base_uri": "https://localhost:8080/"
        },
        "id": "qriukOe5-iye",
        "outputId": "36629615-cbed-4d4a-b553-743cdf28454f"
      },
      "execution_count": 15,
      "outputs": [
        {
          "output_type": "stream",
          "name": "stdout",
          "text": [
            "Predicted: Parkinson's\n"
          ]
        }
      ]
    },
    {
      "cell_type": "code",
      "source": [
        "# Default SVM Model (Before Tuning)\n",
        "from sklearn.svm import SVC\n",
        "from sklearn.metrics import accuracy_score\n",
        "\n",
        "svm_default = SVC()  # No hyperparameter tuning\n",
        "svm_default.fit(X_train, y_train)\n",
        "y_pred_default = svm_default.predict(X_test)\n",
        "\n",
        "# Accuracy before tuning\n",
        "default_accuracy = accuracy_score(y_test, y_pred_default)\n",
        "print(f\"Accuracy Before Tuning: {default_accuracy:.2f}\")\n"
      ],
      "metadata": {
        "colab": {
          "base_uri": "https://localhost:8080/"
        },
        "id": "qzliR9LA-p9F",
        "outputId": "eed430b8-7033-4bca-b038-90d6199532e4"
      },
      "execution_count": 16,
      "outputs": [
        {
          "output_type": "stream",
          "name": "stdout",
          "text": [
            "Accuracy Before Tuning: 0.90\n"
          ]
        }
      ]
    },
    {
      "cell_type": "code",
      "source": [
        "# Accuracy after tuning\n",
        "tuned_accuracy = accuracy_score(y_test, y_pred)\n",
        "print(f\"Accuracy After Tuning: {tuned_accuracy:.2f}\")\n"
      ],
      "metadata": {
        "colab": {
          "base_uri": "https://localhost:8080/"
        },
        "id": "buk7iYzxAyRv",
        "outputId": "ee2c2025-73e8-4392-86db-c696fcd9c79e"
      },
      "execution_count": 17,
      "outputs": [
        {
          "output_type": "stream",
          "name": "stdout",
          "text": [
            "Accuracy After Tuning: 0.95\n"
          ]
        }
      ]
    },
    {
      "cell_type": "code",
      "source": [
        "print(\"Best Hyperparameters Found:\", grid_search.best_params_)\n"
      ],
      "metadata": {
        "colab": {
          "base_uri": "https://localhost:8080/"
        },
        "id": "vc3vMaBYAyr1",
        "outputId": "78d911ac-621a-4a82-cbe9-f3e7e40a37c5"
      },
      "execution_count": 18,
      "outputs": [
        {
          "output_type": "stream",
          "name": "stdout",
          "text": [
            "Best Hyperparameters Found: {'C': 0.1, 'kernel': 'linear'}\n"
          ]
        }
      ]
    },
    {
      "cell_type": "code",
      "source": [
        "cv_results = pd.DataFrame(grid_search.cv_results_)\n",
        "print(cv_results[['param_C', 'param_kernel', 'mean_test_score']])\n"
      ],
      "metadata": {
        "colab": {
          "base_uri": "https://localhost:8080/"
        },
        "id": "LrIgA7i1A1vM",
        "outputId": "4f2cfb40-3d6d-4d4a-a012-53c285d9811c"
      },
      "execution_count": 19,
      "outputs": [
        {
          "output_type": "stream",
          "name": "stdout",
          "text": [
            "   param_C param_kernel  mean_test_score\n",
            "0      0.1       linear         0.890726\n",
            "1      0.1          rbf         0.737298\n",
            "2      1.0       linear         0.858669\n",
            "3      1.0          rbf         0.871573\n",
            "4     10.0       linear         0.865323\n",
            "5     10.0          rbf         0.884476\n"
          ]
        }
      ]
    },
    {
      "cell_type": "code",
      "source": [
        "import matplotlib.pyplot as plt\n",
        "\n",
        "# Extract values\n",
        "C_values = cv_results[\"param_C\"].astype(float)\n",
        "scores = cv_results[\"mean_test_score\"]\n",
        "\n",
        "# Plot\n",
        "plt.figure(figsize=(8,5))\n",
        "plt.plot(C_values, scores, marker='o', linestyle='dashed', color='b')\n",
        "plt.xlabel(\"C Value\")\n",
        "plt.ylabel(\"Mean Accuracy\")\n",
        "plt.title(\"Effect of C on SVM Accuracy\")\n",
        "plt.xscale('log')  # Log scale for better visualization\n",
        "plt.show()\n"
      ],
      "metadata": {
        "colab": {
          "base_uri": "https://localhost:8080/",
          "height": 492
        },
        "id": "emVVg5_oA7mt",
        "outputId": "f00b8901-0280-44e3-c6dd-8374141b97d8"
      },
      "execution_count": 20,
      "outputs": [
        {
          "output_type": "display_data",
          "data": {
            "text/plain": [
              "<Figure size 800x500 with 1 Axes>"
            ],
            "image/png": "[encoded data removed]"
          },
          "metadata": {}
        }
      ]
    },
    {
      "cell_type": "code",
      "source": [
        "import tensorflow as tf\n",
        "from tensorflow import keras\n",
        "\n",
        "# Build Neural Network Model\n",
        "model = keras.Sequential([\n",
        "    keras.layers.Dense(64, activation='relu', input_shape=(X_train.shape[1],)),\n",
        "    keras.layers.Dense(32, activation='relu'),\n",
        "    keras.layers.Dense(1, activation='sigmoid')  # Binary classification\n",
        "])\n",
        "\n",
        "# Compile Model\n",
        "model.compile(optimizer='adam', loss='binary_crossentropy', metrics=['accuracy'])\n",
        "\n",
        "# Train Model\n",
        "model.fit(X_train, y_train, epochs=50, batch_size=8, validation_data=(X_test, y_test))\n"
      ],
      "metadata": {
        "colab": {
          "base_uri": "https://localhost:8080/"
        },
        "id": "jDcvHjfSBRmO",
        "outputId": "ced2e3b8-2224-4436-a236-0c91e6d87269"
      },
      "execution_count": 21,
      "outputs": [
        {
          "output_type": "stream",
          "name": "stderr",
          "text": [
            "/usr/local/lib/python3.11/dist-packages/keras/src/layers/core/dense.py:87: UserWarning: Do not pass an `input_shape`/`input_dim` argument to a layer. When using Sequential models, prefer using an `Input(shape)` object as the first layer in the model instead.\n",
            "  super().__init__(activity_regularizer=activity_regularizer, **kwargs)\n"
          ]
        },
        {
          "output_type": "stream",
          "name": "stdout",
          "text": [
            "Epoch 1/50\n",
            "\u001b[1m20/20\u001b[0m \u001b[32m━━━━━━━━━━━━━━━━━━━━\u001b[0m\u001b[37m\u001b[0m \u001b[1m2s\u001b[0m 14ms/step - accuracy: 0.5828 - loss: 0.6672 - val_accuracy: 0.7436 - val_loss: 0.5345\n",
            "Epoch 2/50\n",
            "\u001b[1m20/20\u001b[0m \u001b[32m━━━━━━━━━━━━━━━━━━━━\u001b[0m\u001b[37m\u001b[0m \u001b[1m0s\u001b[0m 5ms/step - accuracy: 0.8544 - loss: 0.4650 - val_accuracy: 0.8205 - val_loss: 0.4407\n",
            "Epoch 3/50\n",
            "\u001b[1m20/20\u001b[0m \u001b[32m━━━━━━━━━━━━━━━━━━━━\u001b[0m\u001b[37m\u001b[0m \u001b[1m0s\u001b[0m 5ms/step - accuracy: 0.8895 - loss: 0.3871 - val_accuracy: 0.8205 - val_loss: 0.3878\n",
            "Epoch 4/50\n",
            "\u001b[1m20/20\u001b[0m \u001b[32m━━━━━━━━━━━━━━━━━━━━\u001b[0m\u001b[37m\u001b[0m \u001b[1m0s\u001b[0m 7ms/step - accuracy: 0.9145 - loss: 0.3294 - val_accuracy: 0.8205 - val_loss: 0.3554\n",
            "Epoch 5/50\n",
            "\u001b[1m20/20\u001b[0m \u001b[32m━━━━━━━━━━━━━━━━━━━━\u001b[0m\u001b[37m\u001b[0m \u001b[1m0s\u001b[0m 5ms/step - accuracy: 0.9112 - loss: 0.2325 - val_accuracy: 0.8462 - val_loss: 0.3301\n",
            "Epoch 6/50\n",
            "\u001b[1m20/20\u001b[0m \u001b[32m━━━━━━━━━━━━━━━━━━━━\u001b[0m\u001b[37m\u001b[0m \u001b[1m0s\u001b[0m 5ms/step - accuracy: 0.8855 - loss: 0.2844 - val_accuracy: 0.8205 - val_loss: 0.3177\n",
            "Epoch 7/50\n",
            "\u001b[1m20/20\u001b[0m \u001b[32m━━━━━━━━━━━━━━━━━━━━\u001b[0m\u001b[37m\u001b[0m \u001b[1m0s\u001b[0m 5ms/step - accuracy: 0.9317 - loss: 0.2378 - val_accuracy: 0.8462 - val_loss: 0.2949\n",
            "Epoch 8/50\n",
            "\u001b[1m20/20\u001b[0m \u001b[32m━━━━━━━━━━━━━━━━━━━━\u001b[0m\u001b[37m\u001b[0m \u001b[1m0s\u001b[0m 7ms/step - accuracy: 0.9532 - loss: 0.1855 - val_accuracy: 0.8718 - val_loss: 0.2819\n",
            "Epoch 9/50\n",
            "\u001b[1m20/20\u001b[0m \u001b[32m━━━━━━━━━━━━━━━━━━━━\u001b[0m\u001b[37m\u001b[0m \u001b[1m0s\u001b[0m 5ms/step - accuracy: 0.9239 - loss: 0.2066 - val_accuracy: 0.8718 - val_loss: 0.2734\n",
            "Epoch 10/50\n",
            "\u001b[1m20/20\u001b[0m \u001b[32m━━━━━━━━━━━━━━━━━━━━\u001b[0m\u001b[37m\u001b[0m \u001b[1m0s\u001b[0m 5ms/step - accuracy: 0.9409 - loss: 0.1900 - val_accuracy: 0.8718 - val_loss: 0.2590\n",
            "Epoch 11/50\n",
            "\u001b[1m20/20\u001b[0m \u001b[32m━━━━━━━━━━━━━━━━━━━━\u001b[0m\u001b[37m\u001b[0m \u001b[1m0s\u001b[0m 5ms/step - accuracy: 0.9227 - loss: 0.1963 - val_accuracy: 0.8718 - val_loss: 0.2441\n",
            "Epoch 12/50\n",
            "\u001b[1m20/20\u001b[0m \u001b[32m━━━━━━━━━━━━━━━━━━━━\u001b[0m\u001b[37m\u001b[0m \u001b[1m0s\u001b[0m 5ms/step - accuracy: 0.9087 - loss: 0.1804 - val_accuracy: 0.9231 - val_loss: 0.2395\n",
            "Epoch 13/50\n",
            "\u001b[1m20/20\u001b[0m \u001b[32m━━━━━━━━━━━━━━━━━━━━\u001b[0m\u001b[37m\u001b[0m \u001b[1m0s\u001b[0m 6ms/step - accuracy: 0.9474 - loss: 0.1471 - val_accuracy: 0.9231 - val_loss: 0.2421\n",
            "Epoch 14/50\n",
            "\u001b[1m20/20\u001b[0m \u001b[32m━━━━━━━━━━━━━━━━━━━━\u001b[0m\u001b[37m\u001b[0m \u001b[1m0s\u001b[0m 5ms/step - accuracy: 0.9658 - loss: 0.1256 - val_accuracy: 0.9231 - val_loss: 0.2274\n",
            "Epoch 15/50\n",
            "\u001b[1m20/20\u001b[0m \u001b[32m━━━━━━━━━━━━━━━━━━━━\u001b[0m\u001b[37m\u001b[0m \u001b[1m0s\u001b[0m 6ms/step - accuracy: 0.9749 - loss: 0.1204 - val_accuracy: 0.9231 - val_loss: 0.2252\n",
            "Epoch 16/50\n",
            "\u001b[1m20/20\u001b[0m \u001b[32m━━━━━━━━━━━━━━━━━━━━\u001b[0m\u001b[37m\u001b[0m \u001b[1m0s\u001b[0m 5ms/step - accuracy: 0.9512 - loss: 0.1246 - val_accuracy: 0.9231 - val_loss: 0.2211\n",
            "Epoch 17/50\n",
            "\u001b[1m20/20\u001b[0m \u001b[32m━━━━━━━━━━━━━━━━━━━━\u001b[0m\u001b[37m\u001b[0m \u001b[1m0s\u001b[0m 5ms/step - accuracy: 0.9730 - loss: 0.1063 - val_accuracy: 0.9231 - val_loss: 0.2138\n",
            "Epoch 18/50\n",
            "\u001b[1m20/20\u001b[0m \u001b[32m━━━━━━━━━━━━━━━━━━━━\u001b[0m\u001b[37m\u001b[0m \u001b[1m0s\u001b[0m 5ms/step - accuracy: 0.9774 - loss: 0.1090 - val_accuracy: 0.9231 - val_loss: 0.2113\n",
            "Epoch 19/50\n",
            "\u001b[1m20/20\u001b[0m \u001b[32m━━━━━━━━━━━━━━━━━━━━\u001b[0m\u001b[37m\u001b[0m \u001b[1m0s\u001b[0m 5ms/step - accuracy: 0.9758 - loss: 0.0892 - val_accuracy: 0.9231 - val_loss: 0.2096\n",
            "Epoch 20/50\n",
            "\u001b[1m20/20\u001b[0m \u001b[32m━━━━━━━━━━━━━━━━━━━━\u001b[0m\u001b[37m\u001b[0m \u001b[1m0s\u001b[0m 6ms/step - accuracy: 0.9798 - loss: 0.1038 - val_accuracy: 0.9231 - val_loss: 0.2132\n",
            "Epoch 21/50\n",
            "\u001b[1m20/20\u001b[0m \u001b[32m━━━━━━━━━━━━━━━━━━━━\u001b[0m\u001b[37m\u001b[0m \u001b[1m0s\u001b[0m 5ms/step - accuracy: 0.9932 - loss: 0.0857 - val_accuracy: 0.9231 - val_loss: 0.2058\n",
            "Epoch 22/50\n",
            "\u001b[1m20/20\u001b[0m \u001b[32m━━━━━━━━━━━━━━━━━━━━\u001b[0m\u001b[37m\u001b[0m \u001b[1m0s\u001b[0m 5ms/step - accuracy: 0.9736 - loss: 0.0991 - val_accuracy: 0.9231 - val_loss: 0.2061\n",
            "Epoch 23/50\n",
            "\u001b[1m20/20\u001b[0m \u001b[32m━━━━━━━━━━━━━━━━━━━━\u001b[0m\u001b[37m\u001b[0m \u001b[1m0s\u001b[0m 6ms/step - accuracy: 0.9810 - loss: 0.0957 - val_accuracy: 0.9231 - val_loss: 0.2061\n",
            "Epoch 24/50\n",
            "\u001b[1m20/20\u001b[0m \u001b[32m━━━━━━━━━━━━━━━━━━━━\u001b[0m\u001b[37m\u001b[0m \u001b[1m0s\u001b[0m 5ms/step - accuracy: 0.9856 - loss: 0.0834 - val_accuracy: 0.9231 - val_loss: 0.2060\n",
            "Epoch 25/50\n",
            "\u001b[1m20/20\u001b[0m \u001b[32m━━━━━━━━━━━━━━━━━━━━\u001b[0m\u001b[37m\u001b[0m \u001b[1m0s\u001b[0m 5ms/step - accuracy: 0.9809 - loss: 0.0601 - val_accuracy: 0.9231 - val_loss: 0.2023\n",
            "Epoch 26/50\n",
            "\u001b[1m20/20\u001b[0m \u001b[32m━━━━━━━━━━━━━━━━━━━━\u001b[0m\u001b[37m\u001b[0m \u001b[1m0s\u001b[0m 5ms/step - accuracy: 0.9829 - loss: 0.0630 - val_accuracy: 0.9231 - val_loss: 0.2174\n",
            "Epoch 27/50\n",
            "\u001b[1m20/20\u001b[0m \u001b[32m━━━━━━━━━━━━━━━━━━━━\u001b[0m\u001b[37m\u001b[0m \u001b[1m0s\u001b[0m 7ms/step - accuracy: 0.9929 - loss: 0.0569 - val_accuracy: 0.9231 - val_loss: 0.2123\n",
            "Epoch 28/50\n",
            "\u001b[1m20/20\u001b[0m \u001b[32m━━━━━━━━━━━━━━━━━━━━\u001b[0m\u001b[37m\u001b[0m \u001b[1m0s\u001b[0m 5ms/step - accuracy: 0.9901 - loss: 0.0507 - val_accuracy: 0.9231 - val_loss: 0.2103\n",
            "Epoch 29/50\n",
            "\u001b[1m20/20\u001b[0m \u001b[32m━━━━━━━━━━━━━━━━━━━━\u001b[0m\u001b[37m\u001b[0m \u001b[1m0s\u001b[0m 6ms/step - accuracy: 0.9907 - loss: 0.0539 - val_accuracy: 0.9231 - val_loss: 0.1942\n",
            "Epoch 30/50\n",
            "\u001b[1m20/20\u001b[0m \u001b[32m━━━━━━━━━━━━━━━━━━━━\u001b[0m\u001b[37m\u001b[0m \u001b[1m0s\u001b[0m 5ms/step - accuracy: 0.9987 - loss: 0.0596 - val_accuracy: 0.9231 - val_loss: 0.2162\n",
            "Epoch 31/50\n",
            "\u001b[1m20/20\u001b[0m \u001b[32m━━━━━━━━━━━━━━━━━━━━\u001b[0m\u001b[37m\u001b[0m \u001b[1m0s\u001b[0m 5ms/step - accuracy: 0.9984 - loss: 0.0489 - val_accuracy: 0.9231 - val_loss: 0.2056\n",
            "Epoch 32/50\n",
            "\u001b[1m20/20\u001b[0m \u001b[32m━━━━━━━━━━━━━━━━━━━━\u001b[0m\u001b[37m\u001b[0m \u001b[1m0s\u001b[0m 5ms/step - accuracy: 1.0000 - loss: 0.0452 - val_accuracy: 0.9231 - val_loss: 0.2170\n",
            "Epoch 33/50\n",
            "\u001b[1m20/20\u001b[0m \u001b[32m━━━━━━━━━━━━━━━━━━━━\u001b[0m\u001b[37m\u001b[0m \u001b[1m0s\u001b[0m 5ms/step - accuracy: 0.9987 - loss: 0.0369 - val_accuracy: 0.9231 - val_loss: 0.2158\n",
            "Epoch 34/50\n",
            "\u001b[1m20/20\u001b[0m \u001b[32m━━━━━━━━━━━━━━━━━━━━\u001b[0m\u001b[37m\u001b[0m \u001b[1m0s\u001b[0m 5ms/step - accuracy: 0.9783 - loss: 0.0500 - val_accuracy: 0.9231 - val_loss: 0.2217\n",
            "Epoch 35/50\n",
            "\u001b[1m20/20\u001b[0m \u001b[32m━━━━━━━━━━━━━━━━━━━━\u001b[0m\u001b[37m\u001b[0m \u001b[1m0s\u001b[0m 5ms/step - accuracy: 0.9962 - loss: 0.0397 - val_accuracy: 0.9231 - val_loss: 0.2164\n",
            "Epoch 36/50\n",
            "\u001b[1m20/20\u001b[0m \u001b[32m━━━━━━━━━━━━━━━━━━━━\u001b[0m\u001b[37m\u001b[0m \u001b[1m0s\u001b[0m 5ms/step - accuracy: 1.0000 - loss: 0.0345 - val_accuracy: 0.9231 - val_loss: 0.2184\n",
            "Epoch 37/50\n",
            "\u001b[1m20/20\u001b[0m \u001b[32m━━━━━━━━━━━━━━━━━━━━\u001b[0m\u001b[37m\u001b[0m \u001b[1m0s\u001b[0m 6ms/step - accuracy: 1.0000 - loss: 0.0378 - val_accuracy: 0.9231 - val_loss: 0.2239\n",
            "Epoch 38/50\n",
            "\u001b[1m20/20\u001b[0m \u001b[32m━━━━━━━━━━━━━━━━━━━━\u001b[0m\u001b[37m\u001b[0m \u001b[1m0s\u001b[0m 5ms/step - accuracy: 0.9994 - loss: 0.0259 - val_accuracy: 0.9231 - val_loss: 0.2181\n",
            "Epoch 39/50\n",
            "\u001b[1m20/20\u001b[0m \u001b[32m━━━━━━━━━━━━━━━━━━━━\u001b[0m\u001b[37m\u001b[0m \u001b[1m0s\u001b[0m 5ms/step - accuracy: 0.9984 - loss: 0.0380 - val_accuracy: 0.9231 - val_loss: 0.2339\n",
            "Epoch 40/50\n",
            "\u001b[1m20/20\u001b[0m \u001b[32m━━━━━━━━━━━━━━━━━━━━\u001b[0m\u001b[37m\u001b[0m \u001b[1m0s\u001b[0m 5ms/step - accuracy: 1.0000 - loss: 0.0392 - val_accuracy: 0.9231 - val_loss: 0.2234\n",
            "Epoch 41/50\n",
            "\u001b[1m20/20\u001b[0m \u001b[32m━━━━━━━━━━━━━━━━━━━━\u001b[0m\u001b[37m\u001b[0m \u001b[1m0s\u001b[0m 6ms/step - accuracy: 1.0000 - loss: 0.0374 - val_accuracy: 0.9231 - val_loss: 0.2224\n",
            "Epoch 42/50\n",
            "\u001b[1m20/20\u001b[0m \u001b[32m━━━━━━━━━━━━━━━━━━━━\u001b[0m\u001b[37m\u001b[0m \u001b[1m0s\u001b[0m 5ms/step - accuracy: 0.9976 - loss: 0.0189 - val_accuracy: 0.9231 - val_loss: 0.2426\n",
            "Epoch 43/50\n",
            "\u001b[1m20/20\u001b[0m \u001b[32m━━━━━━━━━━━━━━━━━━━━\u001b[0m\u001b[37m\u001b[0m \u001b[1m0s\u001b[0m 5ms/step - accuracy: 1.0000 - loss: 0.0251 - val_accuracy: 0.9231 - val_loss: 0.2344\n",
            "Epoch 44/50\n",
            "\u001b[1m20/20\u001b[0m \u001b[32m━━━━━━━━━━━━━━━━━━━━\u001b[0m\u001b[37m\u001b[0m \u001b[1m0s\u001b[0m 6ms/step - accuracy: 1.0000 - loss: 0.0234 - val_accuracy: 0.9231 - val_loss: 0.2229\n",
            "Epoch 45/50\n",
            "\u001b[1m20/20\u001b[0m \u001b[32m━━━━━━━━━━━━━━━━━━━━\u001b[0m\u001b[37m\u001b[0m \u001b[1m0s\u001b[0m 5ms/step - accuracy: 1.0000 - loss: 0.0159 - val_accuracy: 0.9231 - val_loss: 0.2359\n",
            "Epoch 46/50\n",
            "\u001b[1m20/20\u001b[0m \u001b[32m━━━━━━━━━━━━━━━━━━━━\u001b[0m\u001b[37m\u001b[0m \u001b[1m0s\u001b[0m 5ms/step - accuracy: 1.0000 - loss: 0.0183 - val_accuracy: 0.9231 - val_loss: 0.2435\n",
            "Epoch 47/50\n",
            "\u001b[1m20/20\u001b[0m \u001b[32m━━━━━━━━━━━━━━━━━━━━\u001b[0m\u001b[37m\u001b[0m \u001b[1m0s\u001b[0m 5ms/step - accuracy: 1.0000 - loss: 0.0222 - val_accuracy: 0.9231 - val_loss: 0.2452\n",
            "Epoch 48/50\n",
            "\u001b[1m20/20\u001b[0m \u001b[32m━━━━━━━━━━━━━━━━━━━━\u001b[0m\u001b[37m\u001b[0m \u001b[1m0s\u001b[0m 5ms/step - accuracy: 1.0000 - loss: 0.0172 - val_accuracy: 0.9231 - val_loss: 0.2463\n",
            "Epoch 49/50\n",
            "\u001b[1m20/20\u001b[0m \u001b[32m━━━━━━━━━━━━━━━━━━━━\u001b[0m\u001b[37m\u001b[0m \u001b[1m0s\u001b[0m 5ms/step - accuracy: 1.0000 - loss: 0.0220 - val_accuracy: 0.9231 - val_loss: 0.2490\n",
            "Epoch 50/50\n",
            "\u001b[1m20/20\u001b[0m \u001b[32m━━━━━━━━━━━━━━━━━━━━\u001b[0m\u001b[37m\u001b[0m \u001b[1m0s\u001b[0m 5ms/step - accuracy: 1.0000 - loss: 0.0118 - val_accuracy: 0.9231 - val_loss: 0.2552\n"
          ]
        },
        {
          "output_type": "execute_result",
          "data": {
            "text/plain": [
              "<keras.src.callbacks.history.History at 0x78f7b4798d10>"
            ]
          },
          "metadata": {},
          "execution_count": 21
        }
      ]
    },
    {
      "cell_type": "code",
      "source": [
        "import pandas as pd\n",
        "import numpy as np\n",
        "import seaborn as sns\n",
        "import matplotlib.pyplot as plt\n",
        "from sklearn.model_selection import train_test_split, StratifiedKFold, GridSearchCV\n",
        "from sklearn.preprocessing import StandardScaler\n",
        "from sklearn.decomposition import PCA\n",
        "from sklearn.ensemble import RandomForestClassifier\n",
        "from sklearn.linear_model import LogisticRegression\n",
        "from sklearn.svm import SVC\n",
        "from sklearn.neural_network import MLPClassifier\n",
        "from sklearn.metrics import accuracy_score, classification_report, confusion_matrix\n",
        "from imblearn.over_sampling import SMOTE\n",
        "import joblib\n",
        "\n",
        "# Load dataset\n",
        "df = pd.read_csv('/content/parkinsons.data')\n",
        "\n",
        "# Drop the 'name' column\n",
        "df = df.drop(columns=['name'])\n",
        "\n",
        "# Define features (X) and target (y)\n",
        "X = df.drop(columns=['status'])\n",
        "y = df['status']\n",
        "\n",
        "# Check feature correlation and remove highly correlated features\n",
        "corr_matrix = X.corr().abs()\n",
        "upper = corr_matrix.where(np.triu(np.ones(corr_matrix.shape), k=1).astype(bool))\n",
        "threshold = 0.9  # Remove features with correlation > 0.9\n",
        "high_corr_features = [column for column in upper.columns if any(upper[column] > threshold)]\n",
        "X = X.drop(columns=high_corr_features)\n",
        "\n",
        "# Standardize the features\n",
        "scaler = StandardScaler()\n",
        "X_scaled = scaler.fit_transform(X)\n",
        "\n",
        "# Apply PCA to reduce dimensionality\n",
        "pca = PCA(n_components=0.95)  # Keep 95% variance\n",
        "X_pca = pca.fit_transform(X_scaled)\n",
        "\n",
        "# Split into training and testing sets\n",
        "X_train, X_test, y_train, y_test = train_test_split(X_pca, y, test_size=0.2, random_state=0, stratify=y)\n",
        "\n",
        "# Handle class imbalance using SMOTE\n",
        "smote = SMOTE(random_state=42)\n",
        "X_train_balanced, y_train_balanced = smote.fit_resample(X_train, y_train)\n",
        "\n",
        "# Define models with hyperparameter tuning\n",
        "param_grid_svm = {'C': [0.1, 1, 10], 'kernel': ['linear', 'rbf']}\n",
        "param_grid_rf = {'n_estimators': [50, 100, 200]}\n",
        "param_grid_lr = {'C': [0.1, 1, 10]}\n",
        "\n",
        "models = {\n",
        "    \"Logistic Regression\": GridSearchCV(LogisticRegression(), param_grid_lr, cv=5, scoring='accuracy', n_jobs=-1),\n",
        "    \"SVM\": GridSearchCV(SVC(), param_grid_svm, cv=5, scoring='accuracy', n_jobs=-1),\n",
        "    \"Random Forest\": GridSearchCV(RandomForestClassifier(random_state=42), param_grid_rf, cv=5, scoring='accuracy', n_jobs=-1)\n",
        "}\n",
        "\n",
        "best_models = {}\n",
        "\n",
        "for name, model in models.items():\n",
        "    model.fit(X_train_balanced, y_train_balanced)\n",
        "    best_models[name] = model.best_estimator_\n",
        "    y_pred = model.predict(X_test)\n",
        "    acc = accuracy_score(y_test, y_pred)\n",
        "    print(f\"{name} Best Params: {model.best_params_}\")\n",
        "    print(f\"{name} Accuracy: {acc:.2f}\\n\")\n",
        "    print(classification_report(y_test, y_pred))\n",
        "\n",
        "# Neural Network Model\n",
        "mlp = MLPClassifier(hidden_layer_sizes=(100, 50), max_iter=500, alpha=0.001, random_state=0, early_stopping=True)\n",
        "mlp.fit(X_train_balanced, y_train_balanced)\n",
        "y_pred_nn = mlp.predict(X_test)\n",
        "print(f\"Neural Network Accuracy: {accuracy_score(y_test, y_pred_nn):.2f}\")\n",
        "\n",
        "# Save the best models\n",
        "for name, model in best_models.items():\n",
        "    joblib.dump(model, f\"best_{name.replace(' ', '_').lower()}.pkl\")\n",
        "\n",
        "# Save the scaler and PCA model\n",
        "joblib.dump(scaler, \"scaler.pkl\")\n",
        "joblib.dump(pca, \"pca.pkl\")\n",
        "\n",
        "# Load and test a new patient\n",
        "scaler = joblib.load(\"scaler.pkl\")\n",
        "pca = joblib.load(\"pca.pkl\")\n",
        "best_model = joblib.load(\"best_svm.pkl\")  # Load the best model (e.g., SVM)\n",
        "\n",
        "# Ensure new patient data has the same features as used in training\n",
        "new_patient_data = np.array([11.992, 5.302, 14.997, 0.00784, 0.00007, 0.0370, 0.00554, 0.0140,\n",
        "               0.1908, 0.64, 0.355, 211.093, 0.02184, 0.01908, 0.00143, 222.105, 0.426,\n",
        "               0.141, 211.94, 0.00784, 0.7, 0.00370])\n",
        "\n",
        "# Select only the features used in training\n",
        "new_patient_data = new_patient_data[:X.shape[1]]\n",
        "\n",
        "# Convert to numpy array and reshape\n",
        "new_patient_processed = np.array(new_patient_data).reshape(1, -1)\n",
        "\n",
        "# Preprocess the new sample\n",
        "test_patient_scaled = scaler.transform(new_patient_processed)\n",
        "test_patient_pca = pca.transform(test_patient_scaled)\n",
        "\n",
        "# Predict\n",
        "predicted_status = best_model.predict(test_patient_pca)\n",
        "print(\"Predicted Status:\", \"Parkinson's\" if predicted_status[0] == 1 else \"Healthy\")"
      ],
      "metadata": {
        "id": "WdjZRHb_Brnk",
        "colab": {
          "base_uri": "https://localhost:8080/"
        },
        "outputId": "bbdd635c-35b3-4735-bfea-b48008b0a0a6"
      },
      "execution_count": 30,
      "outputs": [
        {
          "output_type": "stream",
          "name": "stdout",
          "text": [
            "Logistic Regression Best Params: {'C': 10}\n",
            "Logistic Regression Accuracy: 0.69\n",
            "\n",
            "              precision    recall  f1-score   support\n",
            "\n",
            "           0       0.44      0.80      0.57        10\n",
            "           1       0.90      0.66      0.76        29\n",
            "\n",
            "    accuracy                           0.69        39\n",
            "   macro avg       0.67      0.73      0.67        39\n",
            "weighted avg       0.79      0.69      0.71        39\n",
            "\n",
            "SVM Best Params: {'C': 10, 'kernel': 'rbf'}\n",
            "SVM Accuracy: 0.90\n",
            "\n",
            "              precision    recall  f1-score   support\n",
            "\n",
            "           0       0.71      1.00      0.83        10\n",
            "           1       1.00      0.86      0.93        29\n",
            "\n",
            "    accuracy                           0.90        39\n",
            "   macro avg       0.86      0.93      0.88        39\n",
            "weighted avg       0.93      0.90      0.90        39\n",
            "\n",
            "Random Forest Best Params: {'n_estimators': 100}\n",
            "Random Forest Accuracy: 0.90\n",
            "\n",
            "              precision    recall  f1-score   support\n",
            "\n",
            "           0       0.80      0.80      0.80        10\n",
            "           1       0.93      0.93      0.93        29\n",
            "\n",
            "    accuracy                           0.90        39\n",
            "   macro avg       0.87      0.87      0.87        39\n",
            "weighted avg       0.90      0.90      0.90        39\n",
            "\n",
            "Neural Network Accuracy: 0.69\n",
            "Predicted Status: Parkinson's\n"
          ]
        },
        {
          "output_type": "stream",
          "name": "stderr",
          "text": [
            "/usr/local/lib/python3.11/dist-packages/sklearn/utils/validation.py:2739: UserWarning: X does not have valid feature names, but StandardScaler was fitted with feature names\n",
            "  warnings.warn(\n"
          ]
        }
      ]
    }
  ]
}